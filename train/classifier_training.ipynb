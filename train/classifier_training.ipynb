{
 "cells": [
  {
   "cell_type": "markdown",
   "id": "1e17aeea-ba4e-44d2-82f6-334c6ca661e9",
   "metadata": {
    "tags": []
   },
   "source": [
    "## Generating Dataset"
   ]
  },
  {
   "cell_type": "code",
   "execution_count": null,
   "id": "15402549-5633-4723-ac77-ccc63054ca58",
   "metadata": {},
   "outputs": [],
   "source": [
    "import os\n",
    "import pandas as pd\n",
    "import shutil"
   ]
  },
  {
   "cell_type": "code",
   "execution_count": null,
   "id": "9d7668a8-2afc-4fa6-8bb2-450478ed7bd1",
   "metadata": {},
   "outputs": [],
   "source": [
    "path = './cifar10/train/train'"
   ]
  },
  {
   "cell_type": "code",
   "execution_count": null,
   "id": "14b5215a-de39-4229-94bd-e4106031af09",
   "metadata": {},
   "outputs": [],
   "source": [
    "images = os.listdir(path)\n"
   ]
  },
  {
   "cell_type": "code",
   "execution_count": null,
   "id": "4532dc53-b431-4bbc-89ca-9311f1954770",
   "metadata": {},
   "outputs": [],
   "source": [
    "labels_path = './cifar10/trainLabels.csv'"
   ]
  },
  {
   "cell_type": "code",
   "execution_count": null,
   "id": "87185559-3b04-48fc-a834-e1669452f0aa",
   "metadata": {},
   "outputs": [],
   "source": [
    "labels = pd.read_csv(labels_path , index_col =\"id\")\n",
    "labels.head()\n",
    "labels.iloc[1]"
   ]
  },
  {
   "cell_type": "code",
   "execution_count": null,
   "id": "bbe3f404-0153-4b76-8d75-b060fd5f7be2",
   "metadata": {},
   "outputs": [],
   "source": [
    "for image in images:\n",
    "    image_name = int(image[:-4])\n",
    "    if labels.loc[image_name].label == \"ship\":\n",
    "        shutil.copy(f'{path}/{image}' , './cifar10/train/ships')\n",
    "    \n",
    "    elif labels.loc[image_name].label == \"truck\":\n",
    "        shutil.copy(f'{path}/{image}' , './cifar10/train/trucks')\n",
    "        \n",
    "    "
   ]
  },
  {
   "cell_type": "code",
   "execution_count": null,
   "id": "535200c0-86a0-42cc-95f4-b1f35942b44e",
   "metadata": {},
   "outputs": [],
   "source": []
  },
  {
   "cell_type": "code",
   "execution_count": null,
   "id": "c63c0ca8-c373-4e78-8857-fb39dad79e31",
   "metadata": {},
   "outputs": [],
   "source": [
    "len(os.listdir('./dataset/ships'))"
   ]
  },
  {
   "cell_type": "markdown",
   "id": "112021af-c595-4f40-85b8-35a28f7ad3fd",
   "metadata": {},
   "source": [
    "## creating pytorch Dataset and DataLoader"
   ]
  },
  {
   "cell_type": "code",
   "execution_count": 21,
   "id": "c49dd257-70ea-4a0d-8421-0f2ebf7858b6",
   "metadata": {},
   "outputs": [],
   "source": [
    "import torch\n",
    "import torchvision\n",
    "from torchvision import datasets\n",
    "import torchvision.transforms as transforms"
   ]
  },
  {
   "cell_type": "code",
   "execution_count": 22,
   "id": "0a52c6cb-336a-401e-a16d-1e15b2337cd6",
   "metadata": {},
   "outputs": [],
   "source": [
    "transform = transforms.Compose(\n",
    "    [transforms.ToTensor(),\n",
    "     transforms.Normalize((0.5, 0.5, 0.5), (0.5, 0.5, 0.5))])"
   ]
  },
  {
   "cell_type": "code",
   "execution_count": 23,
   "id": "da9b4998-1dd3-469f-9c2d-5c8a43dc27e8",
   "metadata": {},
   "outputs": [],
   "source": [
    "trainset=datasets.ImageFolder(root=\"./dataset/train\" , transform = transform)\n",
    "testset=datasets.ImageFolder(root=\"./dataset/test\" , transform = transform)"
   ]
  },
  {
   "cell_type": "code",
   "execution_count": 24,
   "id": "ee304493-9cf8-4fc2-a09d-4b52f73a183e",
   "metadata": {},
   "outputs": [
    {
     "data": {
      "text/plain": [
       "Dataset ImageFolder\n",
       "    Number of datapoints: 10000\n",
       "    Root location: ./dataset/train\n",
       "    StandardTransform\n",
       "Transform: Compose(\n",
       "               ToTensor()\n",
       "               Normalize(mean=(0.5, 0.5, 0.5), std=(0.5, 0.5, 0.5))\n",
       "           )"
      ]
     },
     "execution_count": 24,
     "metadata": {},
     "output_type": "execute_result"
    }
   ],
   "source": [
    "trainset"
   ]
  },
  {
   "cell_type": "code",
   "execution_count": 25,
   "id": "cc9012d2-9668-4e5b-b169-0da6222ba7a2",
   "metadata": {},
   "outputs": [
    {
     "data": {
      "text/plain": [
       "Dataset ImageFolder\n",
       "    Number of datapoints: 2000\n",
       "    Root location: ./dataset/test\n",
       "    StandardTransform\n",
       "Transform: Compose(\n",
       "               ToTensor()\n",
       "               Normalize(mean=(0.5, 0.5, 0.5), std=(0.5, 0.5, 0.5))\n",
       "           )"
      ]
     },
     "execution_count": 25,
     "metadata": {},
     "output_type": "execute_result"
    }
   ],
   "source": [
    "testset"
   ]
  },
  {
   "cell_type": "code",
   "execution_count": 26,
   "id": "b92072dd-5a98-4c7e-b882-edacbf886c8c",
   "metadata": {},
   "outputs": [],
   "source": [
    "device = torch.device(\"cuda:0\" if torch.cuda.is_available() else \"cpu\")\n",
    "batch_size = 4"
   ]
  },
  {
   "cell_type": "code",
   "execution_count": 27,
   "id": "1bc1577a-8036-478a-99d6-96525bcf6b46",
   "metadata": {},
   "outputs": [],
   "source": [
    "trainloader = torch.utils.data.DataLoader(trainset, batch_size=batch_size,\n",
    "                                          shuffle=True, num_workers=2)\n",
    "testloader = torch.utils.data.DataLoader(testset, batch_size=batch_size,\n",
    "                                         shuffle=False, num_workers=2)"
   ]
  },
  {
   "cell_type": "code",
   "execution_count": 28,
   "id": "bb4a1875-b68a-47c9-8057-5d6f685fa168",
   "metadata": {},
   "outputs": [],
   "source": [
    "classes = ( 'ship' , 'truck' )"
   ]
  },
  {
   "cell_type": "code",
   "execution_count": 29,
   "id": "f128e15c-7cd9-4803-b55e-42be73825b0d",
   "metadata": {},
   "outputs": [
    {
     "name": "stdout",
     "output_type": "stream",
     "text": [
      "tensor([0, 1, 1, 1])\n"
     ]
    },
    {
     "data": {
      "image/png": "[encoded data removed]",
      "text/plain": [
       "<Figure size 640x480 with 1 Axes>"
      ]
     },
     "metadata": {},
     "output_type": "display_data"
    },
    {
     "name": "stdout",
     "output_type": "stream",
     "text": [
      " ship truck truck truck\n"
     ]
    }
   ],
   "source": [
    "import matplotlib.pyplot as plt\n",
    "import numpy as np\n",
    "\n",
    "# functions to show an image\n",
    "\n",
    "\n",
    "def imshow(img):\n",
    "    img = img / 2 + 0.5     # unnormalize\n",
    "    npimg = img.numpy()\n",
    "    plt.imshow(np.transpose(npimg, (1, 2, 0)))\n",
    "    plt.show()\n",
    "\n",
    "\n",
    "# get some random training images\n",
    "dataiter = iter(trainloader)\n",
    "images, labels = dataiter.next()\n",
    "print(labels)\n",
    "\n",
    "# show images\n",
    "imshow(torchvision.utils.make_grid(images))\n",
    "# print labels\n",
    "print(' '.join('%5s' % classes[labels[j]] for j in range(batch_size)))"
   ]
  },
  {
   "cell_type": "markdown",
   "id": "ef0fa3fc-353c-401f-abc0-0c7779c188c8",
   "metadata": {},
   "source": [
    "## Model and Hyperparameters"
   ]
  },
  {
   "cell_type": "code",
   "execution_count": 30,
   "id": "8cf2c2ae-1daf-47f9-a1a1-ccc911186e13",
   "metadata": {},
   "outputs": [],
   "source": [
    "import torch.nn as nn\n",
    "import torch.nn.functional as F\n",
    "\n",
    "\n",
    "class Net(nn.Module):\n",
    "    def __init__(self):\n",
    "        super().__init__()\n",
    "        self.conv1 = nn.Conv2d(3, 6, 5)\n",
    "        self.pool = nn.MaxPool2d(2, 2)\n",
    "        self.conv2 = nn.Conv2d(6, 16, 5)\n",
    "        self.fc1 = nn.Linear(16 * 5 * 5, 120)\n",
    "        self.fc2 = nn.Linear(120, 84)\n",
    "        self.fc3 = nn.Linear(84, 2)\n",
    "       \n",
    "\n",
    "    def forward(self, x):\n",
    "        x = self.pool(F.relu(self.conv1(x)))\n",
    "        x = self.pool(F.relu(self.conv2(x)))\n",
    "        x = torch.flatten(x, 1) # flatten all dimensions except batch\n",
    "        x = F.relu(self.fc1(x))\n",
    "        x = F.relu(self.fc2(x))\n",
    "        x = self.fc3(x)\n",
    "        return x\n",
    "    \n",
    "\n",
    "\n",
    "net = Net()"
   ]
  },
  {
   "cell_type": "code",
   "execution_count": 31,
   "id": "522fc106-3e2d-49f5-94ba-b80f193ce046",
   "metadata": {},
   "outputs": [
    {
     "data": {
      "text/plain": [
       "Net(\n",
       "  (conv1): Conv2d(3, 6, kernel_size=(5, 5), stride=(1, 1))\n",
       "  (pool): MaxPool2d(kernel_size=2, stride=2, padding=0, dilation=1, ceil_mode=False)\n",
       "  (conv2): Conv2d(6, 16, kernel_size=(5, 5), stride=(1, 1))\n",
       "  (fc1): Linear(in_features=400, out_features=120, bias=True)\n",
       "  (fc2): Linear(in_features=120, out_features=84, bias=True)\n",
       "  (fc3): Linear(in_features=84, out_features=2, bias=True)\n",
       ")"
      ]
     },
     "execution_count": 31,
     "metadata": {},
     "output_type": "execute_result"
    }
   ],
   "source": [
    "net.to(device)"
   ]
  },
  {
   "cell_type": "code",
   "execution_count": 32,
   "id": "a47c5d22-71a4-4f72-88cd-22bd97c8c202",
   "metadata": {},
   "outputs": [],
   "source": [
    "import torch.optim as optim\n",
    "\n",
    "criterion = nn.CrossEntropyLoss()\n",
    "optimizer = optim.SGD(net.parameters(), lr=0.001, momentum=0.9)"
   ]
  },
  {
   "cell_type": "code",
   "execution_count": 33,
   "id": "f30d2a1a-9cfb-4328-9fe3-0e0806889737",
   "metadata": {},
   "outputs": [
    {
     "name": "stdout",
     "output_type": "stream",
     "text": [
      "[1,     1] loss: 0.000\n",
      "[1,   201] loss: 0.069\n",
      "[1,   401] loss: 0.068\n",
      "[1,   601] loss: 0.064\n",
      "[1,   801] loss: 0.058\n",
      "[1,  1001] loss: 0.056\n",
      "[1,  1201] loss: 0.053\n",
      "[1,  1401] loss: 0.048\n",
      "[1,  1601] loss: 0.042\n",
      "[1,  1801] loss: 0.041\n",
      "[1,  2001] loss: 0.040\n",
      "[1,  2201] loss: 0.039\n",
      "[1,  2401] loss: 0.037\n",
      "[2,     1] loss: 0.000\n",
      "[2,   201] loss: 0.039\n",
      "[2,   401] loss: 0.035\n",
      "[2,   601] loss: 0.032\n",
      "[2,   801] loss: 0.037\n",
      "[2,  1001] loss: 0.031\n",
      "[2,  1201] loss: 0.032\n",
      "[2,  1401] loss: 0.030\n",
      "[2,  1601] loss: 0.032\n",
      "[2,  1801] loss: 0.028\n",
      "[2,  2001] loss: 0.030\n",
      "[2,  2201] loss: 0.027\n",
      "[2,  2401] loss: 0.032\n",
      "[3,     1] loss: 0.001\n",
      "[3,   201] loss: 0.027\n",
      "[3,   401] loss: 0.030\n",
      "[3,   601] loss: 0.023\n",
      "[3,   801] loss: 0.024\n",
      "[3,  1001] loss: 0.026\n",
      "[3,  1201] loss: 0.025\n",
      "[3,  1401] loss: 0.029\n",
      "[3,  1601] loss: 0.023\n",
      "[3,  1801] loss: 0.027\n",
      "[3,  2001] loss: 0.023\n",
      "[3,  2201] loss: 0.026\n",
      "[3,  2401] loss: 0.027\n",
      "[4,     1] loss: 0.000\n",
      "[4,   201] loss: 0.020\n",
      "[4,   401] loss: 0.021\n",
      "[4,   601] loss: 0.029\n",
      "[4,   801] loss: 0.022\n",
      "[4,  1001] loss: 0.024\n",
      "[4,  1201] loss: 0.022\n",
      "[4,  1401] loss: 0.022\n",
      "[4,  1601] loss: 0.019\n",
      "[4,  1801] loss: 0.022\n",
      "[4,  2001] loss: 0.023\n",
      "[4,  2201] loss: 0.021\n",
      "[4,  2401] loss: 0.022\n",
      "[5,     1] loss: 0.000\n",
      "[5,   201] loss: 0.019\n",
      "[5,   401] loss: 0.021\n",
      "[5,   601] loss: 0.021\n",
      "[5,   801] loss: 0.019\n",
      "[5,  1001] loss: 0.023\n",
      "[5,  1201] loss: 0.018\n",
      "[5,  1401] loss: 0.021\n",
      "[5,  1601] loss: 0.019\n",
      "[5,  1801] loss: 0.019\n",
      "[5,  2001] loss: 0.018\n",
      "[5,  2201] loss: 0.020\n",
      "[5,  2401] loss: 0.021\n",
      "Finished Training\n"
     ]
    }
   ],
   "source": [
    "for epoch in range(5):  # loop over the dataset multiple times\n",
    "\n",
    "    running_loss = 0.0\n",
    "    for i, data in enumerate(trainloader, 0):\n",
    "        # get the inputs; data is a list of [inputs, labels]\n",
    "        inputs, labels = data[0].to(device), data[1].to(device)\n",
    "\n",
    "        # zero the parameter gradients\n",
    "        optimizer.zero_grad()\n",
    "\n",
    "        # forward + backward + optimize\n",
    "        outputs = net(inputs)\n",
    "        loss = criterion(outputs, labels)\n",
    "        loss.backward()\n",
    "        optimizer.step()\n",
    "\n",
    "        # print statistics\n",
    "        running_loss += loss.item()\n",
    "        if i % 2000 == 1999:    # print every 2000 mini-batches\n",
    "            print('[%d, %5d] loss: %.3f' %\n",
    "                  (epoch + 1, i + 1, running_loss / 2000))\n",
    "            running_loss = 0.0\n",
    "\n",
    "print('Finished Training')"
   ]
  },
  {
   "cell_type": "code",
   "execution_count": 34,
   "id": "ca57de10-56fd-41f6-af13-36287919b4ae",
   "metadata": {},
   "outputs": [],
   "source": [
    "PATH = './cifar_net.pth'\n",
    "torch.save(net.state_dict(), PATH)"
   ]
  },
  {
   "cell_type": "markdown",
   "id": "6fb3bc49-9271-4ccb-a6f8-936d0e7e6e4a",
   "metadata": {},
   "source": [
    "## Testing and Prediction"
   ]
  },
  {
   "cell_type": "code",
   "execution_count": 35,
   "id": "9985a44c-bdc9-4990-b328-e710a9cb40eb",
   "metadata": {},
   "outputs": [
    {
     "data": {
      "image/png": "[encoded data removed]",
      "text/plain": [
       "<Figure size 640x480 with 1 Axes>"
      ]
     },
     "metadata": {},
     "output_type": "display_data"
    },
    {
     "name": "stdout",
     "output_type": "stream",
     "text": [
      "GroundTruth:   ship  ship  ship  ship\n"
     ]
    }
   ],
   "source": [
    "dataiter = iter(testloader)\n",
    "images, labels = dataiter.next()\n",
    "\n",
    "# print images\n",
    "imshow(torchvision.utils.make_grid(images))\n",
    "print('GroundTruth: ', ' '.join('%5s' % classes[labels[j]] for j in range(4)))"
   ]
  },
  {
   "cell_type": "code",
   "execution_count": 36,
   "id": "d7f8bc98-e875-4cf6-954e-381037ff9944",
   "metadata": {},
   "outputs": [
    {
     "data": {
      "text/plain": [
       "<All keys matched successfully>"
      ]
     },
     "execution_count": 36,
     "metadata": {},
     "output_type": "execute_result"
    }
   ],
   "source": [
    "net = Net()\n",
    "net.load_state_dict(torch.load(PATH))"
   ]
  },
  {
   "cell_type": "code",
   "execution_count": 37,
   "id": "5f1d531f-a547-4315-b962-907058e9b8e2",
   "metadata": {},
   "outputs": [
    {
     "name": "stdout",
     "output_type": "stream",
     "text": [
      "torch.Size([4, 2])\n",
      "Predicted:   ship  ship  ship  ship\n"
     ]
    }
   ],
   "source": [
    "outputs = net(images)\n",
    "print(outputs.shape)\n",
    "_, predicted = torch.max(outputs , 1)\n",
    "\n",
    "print('Predicted: ', ' '.join('%5s' % classes[predicted[j]]\n",
    "                              for j in range(4)))"
   ]
  },
  {
   "cell_type": "code",
   "execution_count": 38,
   "id": "73727c10-4efb-4ce9-8da0-8a758de415f4",
   "metadata": {},
   "outputs": [
    {
     "name": "stdout",
     "output_type": "stream",
     "text": [
      "Accuracy for class ship  is: 92.3 %\n",
      "Accuracy for class truck is: 91.8 %\n"
     ]
    }
   ],
   "source": [
    "# prepare to count predictions for each class\n",
    "correct_pred = {classname: 0 for classname in classes}\n",
    "total_pred = {classname: 0 for classname in classes}\n",
    "\n",
    "# again no gradients needed\n",
    "with torch.no_grad():\n",
    "    for data in testloader:\n",
    "        images, labels = data\n",
    "        outputs = net(images)\n",
    "        _, predictions = torch.max(outputs, 1)\n",
    "        # collect the correct predictions for each class\n",
    "        for label, prediction in zip(labels, predictions):\n",
    "            if label == prediction:\n",
    "                correct_pred[classes[label]] += 1\n",
    "            total_pred[classes[label]] += 1\n",
    "\n",
    "\n",
    "# print accuracy for each class\n",
    "for classname, correct_count in correct_pred.items():\n",
    "    accuracy = 100 * float(correct_count) / total_pred[classname]\n",
    "    print(\"Accuracy for class {:5s} is: {:.1f} %\".format(classname,\n",
    "                                                   accuracy))"
   ]
  },
  {
   "cell_type": "code",
   "execution_count": null,
   "id": "5ab3c630-bb1e-44c9-81d8-28b9f97c8b22",
   "metadata": {},
   "outputs": [],
   "source": []
  }
 ],
 "metadata": {
  "kernelspec": {
   "display_name": "Python 3",
   "language": "python",
   "name": "python3"
  },
  "language_info": {
   "codemirror_mode": {
    "name": "ipython",
    "version": 3
   },
   "file_extension": ".py",
   "mimetype": "text/x-python",
   "name": "python",
   "nbconvert_exporter": "python",
   "pygments_lexer": "ipython3",
   "version": "3.9.5"
  }
 },
 "nbformat": 4,
 "nbformat_minor": 5
}
